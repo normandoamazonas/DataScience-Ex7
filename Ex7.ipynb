{
  "nbformat": 4,
  "nbformat_minor": 0,
  "metadata": {
    "kernelspec": {
      "display_name": "Python 3",
      "language": "python",
      "name": "python3"
    },
    "language_info": {
      "codemirror_mode": {
        "name": "ipython",
        "version": 3
      },
      "file_extension": ".py",
      "mimetype": "text/x-python",
      "name": "python",
      "nbconvert_exporter": "python",
      "pygments_lexer": "ipython3",
      "version": "3.7.0"
    },
    "colab": {
      "provenance": []
    }
  },
  "cells": [
    {
      "cell_type": "markdown",
      "metadata": {
        "id": "CI8fNbys1WIN"
      },
      "source": [
        "Disciplina: SCC5948_Ciência_de_dados\n",
        "\n",
        "Normando de Campos Amazonas Filho\n",
        "\n",
        "NUSP: 11561949"
      ]
    },
    {
      "cell_type": "markdown",
      "metadata": {
        "id": "vAoYjWV851lS"
      },
      "source": [
        "## Parte 1 - Medidas de avaliação e bootstrap"
      ]
    },
    {
      "cell_type": "markdown",
      "metadata": {
        "id": "ae7mLCZI-DjC"
      },
      "source": [
        "---\n"
      ]
    },
    {
      "cell_type": "markdown",
      "metadata": {
        "id": "GD84PKIi1WIR"
      },
      "source": [
        "### **No exercício dessa semana, continue utilizando a mesma base do exercício 6. Também aplique as mesmas etapas de pré-processamento que você já implementou na semana anterior.**"
      ]
    },
    {
      "cell_type": "markdown",
      "metadata": {
        "id": "Akk5Sv8BM3go"
      },
      "source": [
        "### Questão 0 (Repetida da semana anterior).\n",
        "\n",
        "- Caso a base escolhida tenha mais de 2 classes, transforme-a em um problema binário definindo uma classe como positiva e a outra como negativa. Você pode fazer isso uma vez e depois usar a nova base nas próximas questões.\n",
        "\n",
        "- Outras operações como remoção de atributos podem ser feitas uma vez fora da função de pré-processamento.\n",
        "\n",
        "- Implemente a função de pré-processamento para sua base aplicando as técnicas que achar necessário.\n"
      ]
    },
    {
      "cell_type": "code",
      "metadata": {
        "id": "wRDthSyd90j4",
        "colab": {
          "base_uri": "https://localhost:8080/",
          "height": 334
        },
        "outputId": "396e44b1-dfba-4309-8698-c983ec0ccdb8"
      },
      "source": [
        "# Transforme sua base em binária, isso pode ser feito apenas uma vez antes dos outros experimentos.\n",
        "# usando o Iris como exemplo, mas a resolução seria similar para as outras base\n",
        "from sklearn.datasets import load_iris\n",
        "import pandas as pd\n",
        "import numpy as np\n",
        "\n",
        "iris = load_iris()\n",
        "dataframe = pd.DataFrame(data=np.c_[iris.data, iris.target], columns= iris['feature_names'] + ['target'])\n",
        "dataframe.target = dataframe.target.replace(to_replace = 2, value = 0)\n",
        "\n",
        "classe_0 = dataframe[dataframe['target'] == 0]\n",
        "classe_1 = dataframe[dataframe['target'] == 1]\n",
        "dataframe = pd.concat([classe_0, classe_1])\n",
        "dataframe = dataframe.reset_index(drop=True)\n",
        "\n",
        "_ = dataframe.hist()\n",
        "dataframe['target'].value_counts()"
      ],
      "execution_count": null,
      "outputs": [
        {
          "output_type": "execute_result",
          "data": {
            "text/plain": [
              "0.0    100\n",
              "1.0     50\n",
              "Name: target, dtype: int64"
            ]
          },
          "metadata": {
            "tags": []
          },
          "execution_count": 10
        },
        {
          "output_type": "display_data",
          "data": {
            "image/png": "[encoded data removed]",
            "text/plain": [
              "<Figure size 432x288 with 6 Axes>"
            ]
          },
          "metadata": {
            "tags": [],
            "needs_background": "light"
          }
        }
      ]
    },
    {
      "cell_type": "code",
      "metadata": {
        "id": "MFHj3PDfNQzJ"
      },
      "source": [
        "def preprocess(x_treino, x_teste, y_treino, y_teste):\n",
        "  # Aqui poderia ser feito normalização e outras transformações\n",
        "  x_treino_novo, x_teste_novo, y_treino_novo, y_teste_novo = x_treino, x_teste, y_treino, y_teste\n",
        "  return x_treino_novo, x_teste_novo, y_treino_novo, y_teste_novo"
      ],
      "execution_count": null,
      "outputs": []
    },
    {
      "cell_type": "markdown",
      "metadata": {
        "id": "Jvl_VCC1IkEG"
      },
      "source": [
        "### Questão 01.\n",
        "\n",
        "Escolha duas métricas diferentes da semana passada e crie 2 novas funções, sendo  uma função para cada métrica calculada a partir da matriz confusão."
      ]
    },
    {
      "cell_type": "code",
      "metadata": {
        "colab": {
          "base_uri": "https://localhost:8080/"
        },
        "id": "P3Wap7GsJBkv",
        "outputId": "d36bdc5b-f780-4bde-f066-69f16f18e854"
      },
      "source": [
        "def confusion_matrix(y_test, y_pred):\n",
        "  conf = np.zeros((2,2))\n",
        "  conf[0,0] = np.logical_and(y_test == 0, y_pred == 0).sum()\n",
        "  conf[0,1] = np.logical_and(y_test == 0, y_pred == 1).sum()\n",
        "  conf[1,1] = np.logical_and(y_test == 1, y_pred == 1).sum()\n",
        "  conf[1,0] = np.logical_and(y_test == 1, y_pred == 0).sum()\n",
        "  return conf\n",
        "\n",
        "actual    = np.array([1, 0, 1, 1, 0, 0, 1, 0, 1, 1])\n",
        "predicted = np.array([0, 1, 1, 1, 1, 0, 1, 1, 0, 1])\n",
        "\n",
        "conf_mat = confusion_matrix(actual, predicted)\n",
        "print(conf_mat)"
      ],
      "execution_count": null,
      "outputs": [
        {
          "output_type": "stream",
          "text": [
            "[[1. 3.]\n",
            " [2. 4.]]\n"
          ],
          "name": "stdout"
        }
      ]
    },
    {
      "cell_type": "code",
      "metadata": {
        "id": "Z4ptZrMVJKsP"
      },
      "source": [
        "# mudar o nome de acordo com sua métrica\n",
        "def accuracy_score(y_test, y_pred):\n",
        "  tn = np.logical_and(y_test == 0, y_pred == 0).sum()\n",
        "  tp = np.logical_and(y_test == 1, y_pred == 1).sum()\n",
        "  return tn+tp/len(y_test)"
      ],
      "execution_count": null,
      "outputs": []
    },
    {
      "cell_type": "markdown",
      "metadata": {
        "id": "5IuqiJcd4b6D"
      },
      "source": [
        "### Questão 02.\n",
        "\n",
        "-  Implemente a técnica bootstrap utilizando a função abaixo"
      ]
    },
    {
      "cell_type": "code",
      "metadata": {
        "id": "WaR7HyvO9zss"
      },
      "source": [
        "from sklearn.tree import DecisionTreeClassifier\n",
        "from sklearn.linear_model import Perceptron\n",
        "from numpy import mean, std\n",
        "from matplotlib import pyplot as plt\n",
        "\n",
        "def classificacao_bootstrap(data, columns, target, preproc_fn, score_fn, score_name, conf_matrix_fn,\n",
        "                   no_bs=1000, p_teste=0.2, plot=True):\n",
        "    \"\"\"\n",
        "    Executa classificação do conjunto de dados passado\n",
        "    ---------------------------------------------------------------\n",
        "    data:       DataFrame. Conjunto de dados\n",
        "    columns:    Lista de inteiros. Índice das colunas utilizadas no treinamento e teste\n",
        "    target:     Inteiro. Índice da coluna alvo\n",
        "    preproc_fn: Função. Faz o pré-processamento da base já separada em treino e teste\n",
        "    score_fn:   Função. A função que calcula a medida de desempenho desejada. Deve ser uma\n",
        "                função que compara dois vetores, o primeiro vetor são os valores preditos\n",
        "                pelo classificador, o segundo os rótulos reais\n",
        "                Vide exemplo das funções em\n",
        "                http://scikit-learn.org/stable/modules/classes.html#module-sklearn.metrics\n",
        "                como por exemplo, sklearn.metrics.accuracy_score\n",
        "                http://scikit-learn.org/stable/modules/generated/sklearn.metrics.accuracy_score.html\n",
        "    score_name: String. Uma string com o nome da medida de desempenho\n",
        "    conf_matrix_fn: Função. Calcula matriz de confusão\n",
        "    folds:      Inteiro. Número de folds na validação cruzada\n",
        "    plot:       Booleano. True para plotar os gráficos False para não plotar\n",
        "    ---------------------------------------------------------------\n",
        "    Realiza a classificação em 6 modelos (perceptron,\n",
        "    SVM com kernel polinomial de grau 3, Árvore de decisão, 3NN, 5NN, e 7NN)\n",
        "    Plot o gráfico de desempenho para cada classificador.\n",
        "    Retorna um dicionário com os classificadores treinados, as medidas de desempenho e matriz de confusão\n",
        "    \"\"\"\n",
        "    import numpy as np\n",
        "    # inicializa os modelos com os parâmetros solicitados\n",
        "    prcp = Perceptron()\n",
        "    dt = DecisionTreeClassifier(criterion='gini', splitter='best', min_samples_split=int(len(data)*0.1))\n",
        "\n",
        "    clfs = [prcp, dt]\n",
        "    clfs_names = ['perceptron', 'dt']\n",
        "\n",
        "    #Inicializa estruturas para matrizes de confusão\n",
        "    confusion_matrices = {\n",
        "        'perceptron': np.zeros((2,2)),\n",
        "        'dt': np.zeros((2,2)),\n",
        "    }\n",
        "\n",
        "    results = {'perceptron':[], 'dt':[]}\n",
        "    for c, c_name in zip(clfs, clfs_names):\n",
        "      ################# IMPLEMENTE AQUI O BOOTSTRAP #########################\n",
        "        #    Dentro desse loop:\n",
        "        #     c: variável-objeto que representa o classificador\n",
        "        #     c_name: Nome do classificador\n",
        "        #     results: dicionário com vetores de resultado para cada classificador\n",
        "      #######################################################################\n",
        "      scores = []\n",
        "      p_treino = 1 - p_teste\n",
        "      for i in range(0, no_bs):\n",
        "        treino = data.sample(frac = p_treino, replace=True)\n",
        "        teste_indices = data.index.difference(treino.index)\n",
        "        teste = data.iloc[teste_indices]\n",
        "\n",
        "        X_treino, X_teste = treino.iloc[:, columns], teste.iloc[:, columns]\n",
        "        y_treino, y_teste = treino.iloc[:, target], teste.iloc[:, target]\n",
        "\n",
        "        c.fit(X_treino, y_treino)\n",
        "        y_test_pred = c.predict(X_teste)\n",
        "        results[c_name].append( score(y_teste, y_test_pred) )\n",
        "        #####################  ###############################################\n",
        "    if not plot:\n",
        "        return {'results': results, 'clfs':clfs}\n",
        "    # faz o plot de desempenho dos classificadores\n",
        "    plt.figure(figsize=(8,8))\n",
        "    plt.bar(range(1, len(clfs)+1), [mean(results[name]) for name in clfs_names],\n",
        "                                yerr=[std(results[name]) for name in clfs_names])\n",
        "    plt.xticks(range(1, len(clfs)+1), clfs_names, rotation=45)\n",
        "    title = 'Desempenho dos classificadores - %s'%(score_name)\n",
        "    plt.title(title)\n",
        "    plt.show()\n",
        "\n",
        "    return {'results': results, 'clfs':clfs, 'confusion_matrices': confusion_matrices}"
      ],
      "execution_count": null,
      "outputs": []
    },
    {
      "cell_type": "code",
      "metadata": {
        "id": "NJWy5TLNrp6T"
      },
      "source": [
        "results = classificacao(dataframe, [0, 1, 2, 3], 4, preproc_fn=preprocess, score_fn=accuracy_score,\n",
        "                        score_name='acc', conf_matrix_fn=confusion_matrix)"
      ],
      "execution_count": null,
      "outputs": []
    },
    {
      "cell_type": "markdown",
      "metadata": {
        "id": "KUBtQR7l5hUX"
      },
      "source": [
        "### Questão 03.\n",
        "\n",
        "- Rode a função 4 vezes utilizando as diferentes métricas que você implementou\n",
        "- Compare os resultados e discuta as vantagens/desvantagens de cada uma das métricas"
      ]
    },
    {
      "cell_type": "markdown",
      "metadata": {
        "id": "bIUUyGhs5-p0"
      },
      "source": [
        "## Parte 2 - Curva ROC e Teste de hipótese\n",
        "\n",
        "## Funções novas utilizadas no exercício\n",
        "\n",
        "- `pandas.Series.nunique()` ([link](https://pandas.pydata.org/pandas-docs/stable/reference/api/pandas.Series.nunique.html)): Conta quantidade de valores únicos de uma coluna. Útil para verificar se uma coluna é relevante ou não\n",
        "- `scipy.stats.ttest_ind()` ([link](https://docs.scipy.org/doc/scipy/reference/generated/scipy.stats.ttest_ind.html#scipy.stats.ttest_ind)): Calcula o teste t para duas amostras independentes\n",
        "- `sklearn.metrics.plot_roc_curve()` ([link](https://scikit-learn.org/stable/modules/generated/sklearn.metrics.plot_roc_curve.html)): Plota a curva ROC de um classificador dado um conjunto de input e alvo"
      ]
    },
    {
      "cell_type": "markdown",
      "metadata": {
        "id": "CjxiImds6u9L"
      },
      "source": [
        "### Questão 01.\n",
        "\n",
        "Faça a exploração dos dados. Isto é, carregue, substitua valores faltantes, padronize os dados, etc. Faça também a seleção dos atributos que achar mais relevantes.\n",
        "\n",
        " - Dica: Utilize a função `nunique()` durante a exploração dos dados. Você pode utilizar o \"bom senso\" (além de outras ferramentas é claro) na hora de escolher qual atributo do conjunto manter"
      ]
    },
    {
      "cell_type": "code",
      "metadata": {
        "colab": {
          "base_uri": "https://localhost:8080/"
        },
        "id": "jTS4V3jN590F",
        "outputId": "8b285e9e-2a31-47d5-8255-a1a761828850"
      },
      "source": [
        "import pandas as pd\n",
        "import matplotlib.pyplot as plt\n",
        "\n",
        "df = pd.read_csv(\"titanic.csv\")\n",
        "df.info()"
      ],
      "execution_count": null,
      "outputs": [
        {
          "output_type": "stream",
          "text": [
            "<class 'pandas.core.frame.DataFrame'>\n",
            "RangeIndex: 891 entries, 0 to 890\n",
            "Data columns (total 12 columns):\n",
            " #   Column       Non-Null Count  Dtype  \n",
            "---  ------       --------------  -----  \n",
            " 0   PassengerId  891 non-null    int64  \n",
            " 1   Survived     891 non-null    int64  \n",
            " 2   Pclass       891 non-null    int64  \n",
            " 3   Name         891 non-null    object \n",
            " 4   Sex          891 non-null    object \n",
            " 5   Age          714 non-null    float64\n",
            " 6   SibSp        891 non-null    int64  \n",
            " 7   Parch        891 non-null    int64  \n",
            " 8   Ticket       891 non-null    object \n",
            " 9   Fare         891 non-null    float64\n",
            " 10  Cabin        204 non-null    object \n",
            " 11  Embarked     889 non-null    object \n",
            "dtypes: float64(2), int64(5), object(5)\n",
            "memory usage: 83.7+ KB\n"
          ],
          "name": "stdout"
        }
      ]
    },
    {
      "cell_type": "code",
      "metadata": {
        "colab": {
          "base_uri": "https://localhost:8080/"
        },
        "id": "6EzD9sCq6zs2",
        "outputId": "564f59fe-3135-4091-8b7a-e6dee93dc9c1"
      },
      "source": [
        "# Removendo ID do passageiro, nome e número da cabine, por não serem relevantes ou por ter muitos valores faltantes\n",
        "df = df.drop(columns=[\"PassengerId\",\"Name\", \"Cabin\"])\n",
        "df.info()"
      ],
      "execution_count": null,
      "outputs": [
        {
          "output_type": "stream",
          "text": [
            "<class 'pandas.core.frame.DataFrame'>\n",
            "RangeIndex: 891 entries, 0 to 890\n",
            "Data columns (total 9 columns):\n",
            " #   Column    Non-Null Count  Dtype  \n",
            "---  ------    --------------  -----  \n",
            " 0   Survived  891 non-null    int64  \n",
            " 1   Pclass    891 non-null    int64  \n",
            " 2   Sex       891 non-null    object \n",
            " 3   Age       714 non-null    float64\n",
            " 4   SibSp     891 non-null    int64  \n",
            " 5   Parch     891 non-null    int64  \n",
            " 6   Ticket    891 non-null    object \n",
            " 7   Fare      891 non-null    float64\n",
            " 8   Embarked  889 non-null    object \n",
            "dtypes: float64(2), int64(4), object(3)\n",
            "memory usage: 62.8+ KB\n"
          ],
          "name": "stdout"
        }
      ]
    },
    {
      "cell_type": "code",
      "metadata": {
        "colab": {
          "base_uri": "https://localhost:8080/"
        },
        "id": "r-VPB-Sb61U7",
        "outputId": "f4e62fda-2482-4344-9cfb-aaa5c1197b6d"
      },
      "source": [
        "df[\"Ticket\"].nunique()"
      ],
      "execution_count": null,
      "outputs": [
        {
          "output_type": "execute_result",
          "data": {
            "text/plain": [
              "681"
            ]
          },
          "metadata": {
            "tags": []
          },
          "execution_count": 3
        }
      ]
    },
    {
      "cell_type": "code",
      "metadata": {
        "colab": {
          "base_uri": "https://localhost:8080/",
          "height": 402
        },
        "id": "cukS_1pC62eh",
        "outputId": "f2bb9d37-1894-4a51-89a2-827a8b4e6e9a"
      },
      "source": [
        "# Removendo também o Ticket por ter muitos valores diferentes\n",
        "df = df.drop(columns=[\"Ticket\"])\n",
        "df"
      ],
      "execution_count": null,
      "outputs": [
        {
          "output_type": "execute_result",
          "data": {
            "text/html": [
              "<div>\n",
              "<style scoped>\n",
              "    .dataframe tbody tr th:only-of-type {\n",
              "        vertical-align: middle;\n",
              "    }\n",
              "\n",
              "    .dataframe tbody tr th {\n",
              "        vertical-align: top;\n",
              "    }\n",
              "\n",
              "    .dataframe thead th {\n",
              "        text-align: right;\n",
              "    }\n",
              "</style>\n",
              "<table border=\"1\" class=\"dataframe\">\n",
              "  <thead>\n",
              "    <tr style=\"text-align: right;\">\n",
              "      <th></th>\n",
              "      <th>Survived</th>\n",
              "      <th>Pclass</th>\n",
              "      <th>Sex</th>\n",
              "      <th>Age</th>\n",
              "      <th>SibSp</th>\n",
              "      <th>Parch</th>\n",
              "      <th>Fare</th>\n",
              "      <th>Embarked</th>\n",
              "    </tr>\n",
              "  </thead>\n",
              "  <tbody>\n",
              "    <tr>\n",
              "      <th>0</th>\n",
              "      <td>0</td>\n",
              "      <td>3</td>\n",
              "      <td>male</td>\n",
              "      <td>22.0</td>\n",
              "      <td>1</td>\n",
              "      <td>0</td>\n",
              "      <td>7.2500</td>\n",
              "      <td>S</td>\n",
              "    </tr>\n",
              "    <tr>\n",
              "      <th>1</th>\n",
              "      <td>1</td>\n",
              "      <td>1</td>\n",
              "      <td>female</td>\n",
              "      <td>38.0</td>\n",
              "      <td>1</td>\n",
              "      <td>0</td>\n",
              "      <td>71.2833</td>\n",
              "      <td>C</td>\n",
              "    </tr>\n",
              "    <tr>\n",
              "      <th>2</th>\n",
              "      <td>1</td>\n",
              "      <td>3</td>\n",
              "      <td>female</td>\n",
              "      <td>26.0</td>\n",
              "      <td>0</td>\n",
              "      <td>0</td>\n",
              "      <td>7.9250</td>\n",
              "      <td>S</td>\n",
              "    </tr>\n",
              "    <tr>\n",
              "      <th>3</th>\n",
              "      <td>1</td>\n",
              "      <td>1</td>\n",
              "      <td>female</td>\n",
              "      <td>35.0</td>\n",
              "      <td>1</td>\n",
              "      <td>0</td>\n",
              "      <td>53.1000</td>\n",
              "      <td>S</td>\n",
              "    </tr>\n",
              "    <tr>\n",
              "      <th>4</th>\n",
              "      <td>0</td>\n",
              "      <td>3</td>\n",
              "      <td>male</td>\n",
              "      <td>35.0</td>\n",
              "      <td>0</td>\n",
              "      <td>0</td>\n",
              "      <td>8.0500</td>\n",
              "      <td>S</td>\n",
              "    </tr>\n",
              "    <tr>\n",
              "      <th>...</th>\n",
              "      <td>...</td>\n",
              "      <td>...</td>\n",
              "      <td>...</td>\n",
              "      <td>...</td>\n",
              "      <td>...</td>\n",
              "      <td>...</td>\n",
              "      <td>...</td>\n",
              "      <td>...</td>\n",
              "    </tr>\n",
              "    <tr>\n",
              "      <th>886</th>\n",
              "      <td>0</td>\n",
              "      <td>2</td>\n",
              "      <td>male</td>\n",
              "      <td>27.0</td>\n",
              "      <td>0</td>\n",
              "      <td>0</td>\n",
              "      <td>13.0000</td>\n",
              "      <td>S</td>\n",
              "    </tr>\n",
              "    <tr>\n",
              "      <th>887</th>\n",
              "      <td>1</td>\n",
              "      <td>1</td>\n",
              "      <td>female</td>\n",
              "      <td>19.0</td>\n",
              "      <td>0</td>\n",
              "      <td>0</td>\n",
              "      <td>30.0000</td>\n",
              "      <td>S</td>\n",
              "    </tr>\n",
              "    <tr>\n",
              "      <th>888</th>\n",
              "      <td>0</td>\n",
              "      <td>3</td>\n",
              "      <td>female</td>\n",
              "      <td>NaN</td>\n",
              "      <td>1</td>\n",
              "      <td>2</td>\n",
              "      <td>23.4500</td>\n",
              "      <td>S</td>\n",
              "    </tr>\n",
              "    <tr>\n",
              "      <th>889</th>\n",
              "      <td>1</td>\n",
              "      <td>1</td>\n",
              "      <td>male</td>\n",
              "      <td>26.0</td>\n",
              "      <td>0</td>\n",
              "      <td>0</td>\n",
              "      <td>30.0000</td>\n",
              "      <td>C</td>\n",
              "    </tr>\n",
              "    <tr>\n",
              "      <th>890</th>\n",
              "      <td>0</td>\n",
              "      <td>3</td>\n",
              "      <td>male</td>\n",
              "      <td>32.0</td>\n",
              "      <td>0</td>\n",
              "      <td>0</td>\n",
              "      <td>7.7500</td>\n",
              "      <td>Q</td>\n",
              "    </tr>\n",
              "  </tbody>\n",
              "</table>\n",
              "<p>891 rows × 8 columns</p>\n",
              "</div>"
            ],
            "text/plain": [
              "     Survived  Pclass     Sex   Age  SibSp  Parch     Fare Embarked\n",
              "0           0       3    male  22.0      1      0   7.2500        S\n",
              "1           1       1  female  38.0      1      0  71.2833        C\n",
              "2           1       3  female  26.0      0      0   7.9250        S\n",
              "3           1       1  female  35.0      1      0  53.1000        S\n",
              "4           0       3    male  35.0      0      0   8.0500        S\n",
              "..        ...     ...     ...   ...    ...    ...      ...      ...\n",
              "886         0       2    male  27.0      0      0  13.0000        S\n",
              "887         1       1  female  19.0      0      0  30.0000        S\n",
              "888         0       3  female   NaN      1      2  23.4500        S\n",
              "889         1       1    male  26.0      0      0  30.0000        C\n",
              "890         0       3    male  32.0      0      0   7.7500        Q\n",
              "\n",
              "[891 rows x 8 columns]"
            ]
          },
          "metadata": {
            "tags": []
          },
          "execution_count": 4
        }
      ]
    },
    {
      "cell_type": "code",
      "metadata": {
        "id": "h5rioqXl64_g"
      },
      "source": [
        "from sklearn.pipeline import Pipeline\n",
        "from sklearn.preprocessing import StandardScaler\n",
        "from sklearn.compose import ColumnTransformer\n",
        "from sklearn.impute import SimpleImputer\n",
        "from sklearn.preprocessing import OneHotEncoder\n",
        "from sklearn.model_selection import train_test_split\n",
        "import numpy as np\n",
        "\n",
        "features_categoricos = [\"Sex\", \"Embarked\"]\n",
        "features_numericos = [\"Age\", \"Fare\"]\n",
        "\n",
        "def preprocess(X_train, X_test, y_train, y_test, features_categoricos, features_numericos):\n",
        "\n",
        "  transformer_categorico = Pipeline(steps=[\n",
        "      ('imputer', SimpleImputer(strategy='most_frequent')),\n",
        "      ('onehot', OneHotEncoder())])\n",
        "\n",
        "  transformer_numerico = Pipeline(steps=[\n",
        "      ('imputer', SimpleImputer(strategy='mean')),\n",
        "      ('scaler', StandardScaler())])\n",
        "\n",
        "  preprocessor = ColumnTransformer(\n",
        "      transformers=[\n",
        "          ('numerico', transformer_numerico, features_numericos),\n",
        "          ('categorico', transformer_categorico, features_categoricos),\n",
        "      ])\n",
        "\n",
        "  df_train = preprocessor.fit_transform(X_train)\n",
        "  df_test = preprocessor.transform(X_test)\n",
        "  nomes = []\n",
        "  # # Variáveis numéricas não tem alteração de tamanho, logo:\n",
        "  nomes = nomes + features_numericos\n",
        "\n",
        "  # Para os dados categóricos devemos acessar o transformador:\n",
        "  transformacao_categorica = preprocessor.transformers_[1]\n",
        "  # Depois o pipeline\n",
        "  pipeline_categorico = transformacao_categorica[1]\n",
        "  # E finalmente o onehot\n",
        "  transf_onehot = pipeline_categorico.named_steps['onehot']\n",
        "  # Para acessar o nome das variáveis usamos o método get_feature_names()\n",
        "  nomes = nomes + (transf_onehot.get_feature_names().tolist())\n",
        "  df_train = pd.DataFrame(data = df_train, columns=nomes)\n",
        "  df_test = pd.DataFrame(data = df_test, columns=nomes)\n",
        "\n",
        "  # Dropando se é homem e concatenando com as colunas faltantes:\n",
        "  df_train = df_train.drop(columns=[\"x0_male\"])\n",
        "  df_test = df_test.drop(columns=[\"x0_male\"])\n",
        "\n",
        "  # Sem fazer os indices ficarem iguais a copia das colunas extras pode gerar NaNs\n",
        "  df_train.index = X_train.index\n",
        "  df_test.index = X_test.index\n",
        "\n",
        "  colunas_faltantes = [\"Pclass\", \"SibSp\", \"Parch\"]\n",
        "  for c in colunas_faltantes:\n",
        "    df_train[c] = X_train[c]\n",
        "    df_test[c] = X_test[c]\n",
        "\n",
        "  return df_train, df_test, y_train, y_test"
      ],
      "execution_count": null,
      "outputs": []
    },
    {
      "cell_type": "markdown",
      "metadata": {
        "id": "n9MVpvgX7Z0u"
      },
      "source": [
        "### Questão 02.\n",
        "\n",
        "Separe o conjunto de dados de maneira estratificada (através do parâmetro `stratify` da função `train_test_split`) em 20% para teste e 80% para treino. Depois plote a curva ROC (`sklearn.metrics.plot_roc_curve`) para **todos** os classificadores (no mesmo gráfico).\n",
        "\n",
        "Os melhores classificadores da questão anterior também apresentaram melhor desempenho na curva ROC? O que pode ter ocorrido? Teste diferentes valores de `random_state` na função `train_test_split` e observe o comportamento das curvas.\n",
        "\n",
        "\n",
        "*   Dica: Para plotar múltiplas curvas ROC no mesmo gráfico, defina uma figura com `fig, ax = plt.subplots()` e passe `ax` como parâmetro da função `plot_roc_curve`. Não se esqueça de passar também o nome do classificador para que o seu gráfico fique mais fácil de interpretar\n",
        "\n"
      ]
    },
    {
      "cell_type": "code",
      "metadata": {
        "id": "oPHjrIF__aoa"
      },
      "source": [
        "df_novo = df.copy(deep=True)\n",
        "X = df_novo.drop(columns=[\"Survived\"])\n",
        "y = df_novo[\"Survived\"]\n",
        "X_train, X_test, y_train, y_test = train_test_split(X, y, stratify=y, test_size=0.2, random_state=0)\n",
        "X_train, X_test, y_train, y_test = preprocess(X_train, X_test, y_train, y_test, features_categoricos, features_numericos)"
      ],
      "execution_count": null,
      "outputs": []
    },
    {
      "cell_type": "code",
      "metadata": {
        "id": "0XKyiyeM7WTB",
        "colab": {
          "base_uri": "https://localhost:8080/",
          "height": 606
        },
        "outputId": "737a3759-752f-4c36-dc45-563598bc9af7"
      },
      "source": [
        "from sklearn.neural_network import MLPClassifier\n",
        "from sklearn.linear_model import Perceptron\n",
        "from sklearn.svm import SVC\n",
        "from sklearn.tree import DecisionTreeClassifier\n",
        "from sklearn.neighbors import KNeighborsClassifier\n",
        "from sklearn import datasets, metrics\n",
        "import numpy as np\n",
        "\n",
        "classificadores = {\n",
        "  \"Perceptron\" : {\"modelo\": Perceptron(), \"scores\": []},\n",
        "  \"Multi-Layer Perceptron (15,)\" : {\"modelo\": MLPClassifier(random_state=1, hidden_layer_sizes=(15,), max_iter=2000), \"scores\": []},\n",
        "  \"Árvore Decisão Critério Gini\" : {\"modelo\": DecisionTreeClassifier(criterion='gini'), \"scores\": []},\n",
        "  \"KNN k=5\" : {\"modelo\": KNeighborsClassifier(n_neighbors=5), \"scores\": []}\n",
        "}\n",
        "\n",
        "plt.rcParams['figure.figsize'] = [15, 10]\n",
        "fig, ax = plt.subplots()\n",
        "for classificador_name in classificadores:\n",
        "  modelo = classificadores[classificador_name][\"modelo\"]\n",
        "  modelo.fit(X_train, y_train)\n",
        "  metrics.plot_roc_curve(modelo, X_test, y_test, name=classificador_name, ax=ax)\n",
        "plt.show()"
      ],
      "execution_count": null,
      "outputs": [
        {
          "output_type": "display_data",
          "data": {
            "image/png": "[encoded data removed]",
            "text/plain": [
              "<Figure size 1080x720 with 1 Axes>"
            ]
          },
          "metadata": {
            "tags": [],
            "needs_background": "light"
          }
        }
      ]
    },
    {
      "cell_type": "markdown",
      "metadata": {
        "id": "klIBW1XGGez2"
      },
      "source": [
        "### Questão 03.\n",
        "\n",
        "Implemente o 10-Fold Cross Validation com os dois melhores classificadores de acordo com a curva ROC e guarde a acurácia de cada fold na chave 'scores' do dicionário de classificadores."
      ]
    },
    {
      "cell_type": "code",
      "metadata": {
        "id": "YBpcAFP4IHN0"
      },
      "source": [
        "from sklearn.model_selection import StratifiedKFold\n",
        "skf = StratifiedKFold(n_splits=10)\n",
        "skf.get_n_splits(X, y)\n",
        "\n",
        "for train_index, test_index in skf.split(X, y):\n",
        "    X_train, X_test = X.iloc[train_index], X.iloc[test_index]\n",
        "    y_train, y_test = y.iloc[train_index], y.iloc[test_index]\n",
        "    X_train, X_test, y_train, y_test = preprocess(X_train, X_test, y_train, y_test, features_categoricos, features_numericos)\n",
        "    for classificador_name in classificadores:\n",
        "      modelo = classificadores[classificador_name][\"modelo\"]\n",
        "      modelo.fit(X_train, y_train)\n",
        "      classificadores[classificador_name]['scores'].append(modelo.score(X_test, y_test))"
      ],
      "execution_count": null,
      "outputs": []
    },
    {
      "cell_type": "markdown",
      "metadata": {
        "id": "Q79VU9FK7Qr4"
      },
      "source": [
        "### Questão 04.\n",
        "\n",
        "Verifique se há diferença estatística significante entre suas acurácias da questão anterior utilizando o teste T (`scipy.stats.ttest_ind`). Considere que há diferença significante se p <= 0.05 (rejeita-se a hipótese nula)"
      ]
    },
    {
      "cell_type": "code",
      "metadata": {
        "id": "qWpS4QiH7TqG",
        "colab": {
          "base_uri": "https://localhost:8080/"
        },
        "outputId": "f5883430-0b93-4224-ba0c-756b6eccb42a"
      },
      "source": [
        "from scipy.stats import ttest_ind\n",
        "\n",
        "stat, p = ttest_ind(classificadores[\"KNN k=5\"][\"scores\"], classificadores[\"Multi-Layer Perceptron (15,)\"][\"scores\"], equal_var=False)\n",
        "if p > 0.05:\n",
        "\tprint('Probably the same distribution (p = %.2f)' % (p))\n",
        "else:\n",
        "\tprint('Probably different distributions (p = %.2f)' % (p))"
      ],
      "execution_count": null,
      "outputs": [
        {
          "output_type": "stream",
          "text": [
            "Probably the same distribution (p = 0.15)\n"
          ],
          "name": "stdout"
        }
      ]
    }
  ]
}